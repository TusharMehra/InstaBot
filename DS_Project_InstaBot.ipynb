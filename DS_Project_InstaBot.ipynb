{
 "cells": [
  {
   "cell_type": "code",
   "execution_count": null,
   "metadata": {},
   "outputs": [],
   "source": [
    "from selenium import webdriver\n",
    "from selenium.webdriver.common.keys import Keys\n",
    "import time \n",
    "from selenium.common.exceptions import NoSuchElementException\n",
    "from selenium.webdriver.support.ui import WebDriverWait\n",
    "from selenium.webdriver.support import expected_conditions as EC\n",
    "from selenium.webdriver.common.by import By\n",
    "from getpass import getpass #to enter password without showing"
   ]
  },
  {
   "cell_type": "code",
   "execution_count": null,
   "metadata": {},
   "outputs": [],
   "source": [
    "driver = webdriver.Chrome(executable_path = r\"C:/Users/Tushar Mehra/Downloads/chromedriver.exe\") \n",
    "#create browser object\n",
    "#and open another window to automate on"
   ]
  },
  {
   "cell_type": "code",
   "execution_count": null,
   "metadata": {},
   "outputs": [],
   "source": [
    "driver.get('https://www.instagram.com/')\n",
    "WebDriverWait(driver,10).until(EC.presence_of_element_located((By.XPATH,'//*[@id=\"loginForm\"]/div/div[3]/button/div')))"
   ]
  },
  {
   "cell_type": "code",
   "execution_count": null,
   "metadata": {},
   "outputs": [],
   "source": [
    "username = \"tusharmehra_official\"\n",
    "passw = getpass(\"Enter Password: \")\n",
    "driver.find_element_by_xpath('//*[@id=\"loginForm\"]/div/div[1]/div/label/input').send_keys(username)\n",
    "driver.find_element_by_xpath('//*[@id=\"loginForm\"]/div/div[2]/div/label/input').send_keys(passw)\n",
    "driver.find_element_by_xpath('//*[@id=\"loginForm\"]/div/div[3]/button').click()"
   ]
  },
  {
   "cell_type": "code",
   "execution_count": null,
   "metadata": {},
   "outputs": [],
   "source": [
    "time.sleep(3)\n",
    "driver.find_element_by_xpath('//*[@id=\"react-root\"]/section/main/div/div/div/div/button').click()"
   ]
  },
  {
   "cell_type": "code",
   "execution_count": null,
   "metadata": {},
   "outputs": [],
   "source": [
    "time.sleep(3)\n",
    "driver.find_element_by_class_name('HoLwm').click()\n",
    "waiter=WebDriverWait(driver, 10).until(EC.presence_of_element_located((By.CLASS_NAME, \"TqC_a\")))"
   ]
  },
  {
   "cell_type": "code",
   "execution_count": null,
   "metadata": {},
   "outputs": [],
   "source": [
    "driver.find_element_by_class_name('TqC_a').click()\n",
    "wait = WebDriverWait(driver,10).until(EC.presence_of_element_located((By.CLASS_NAME,'XTCLo')))"
   ]
  },
  {
   "cell_type": "code",
   "execution_count": null,
   "metadata": {},
   "outputs": [],
   "source": [
    "driver.find_element_by_class_name('XTCLo').send_keys('fashion')\n",
    "wait=WebDriverWait(driver,10).until(EC.presence_of_element_located((By.XPATH,'//a[@class=\"yCE8d  \"]/div/div[2]/div/span')))"
   ]
  },
  {
   "cell_type": "code",
   "execution_count": null,
   "metadata": {},
   "outputs": [],
   "source": [
    "for i in driver.find_elements_by_xpath('//a[@class=\"yCE8d  \"]/div/div[2]/div/span'):\n",
    "    print(i.get_attribute('innerHTML')) #to get text of names of accounts\n",
    "wait=WebDriverWait(driver,10).until(EC.presence_of_element_located((By.CLASS_NAME,\"coreSpriteSearchClear\")))"
   ]
  },
  {
   "cell_type": "code",
   "execution_count": null,
   "metadata": {},
   "outputs": [],
   "source": [
    "driver.find_element_by_class_name('coreSpriteSearchClear').click()\n",
    "wait=WebDriverWait(driver,10).until(EC.presence_of_element_located((By.CLASS_NAME,'TqC_a')))"
   ]
  },
  {
   "cell_type": "code",
   "execution_count": null,
   "metadata": {},
   "outputs": [],
   "source": [
    "driver.find_element_by_class_name('TqC_a').click()\n",
    "wait=WebDriverWait(driver,10).until(EC.presence_of_element_located((By.CLASS_NAME,\"XTCLo\")))"
   ]
  },
  {
   "cell_type": "code",
   "execution_count": null,
   "metadata": {},
   "outputs": [],
   "source": [
    "driver.find_element_by_class_name('XTCLo').send_keys('loggy_gamer')\n",
    "wait=WebDriverWait(driver,10).until(EC.presence_of_element_located((By.CLASS_NAME,'yCE8d')))"
   ]
  },
  {
   "cell_type": "code",
   "execution_count": null,
   "metadata": {},
   "outputs": [],
   "source": [
    "driver.find_element_by_class_name('yCE8d').click()\n",
    "wait=WebDriverWait(driver,10).until(EC.presence_of_element_located((By.CLASS_NAME,'_5f5mN')))"
   ]
  },
  {
   "cell_type": "code",
   "execution_count": null,
   "metadata": {},
   "outputs": [],
   "source": [
    "if driver.find_element_by_class_name('_5f5mN').get_attribute('innerHTML')=='Following':\n",
    "    print('You already follow this account')\n",
    "else:\n",
    "    driver.find_element_by_xpath('//*[@id=\"react-root\"]/section/main/div/header/section/div[1]/div[1]/div/div/div/span/span[1]/button').click()\n",
    "wait=WebDriverWait(driver,10).until(EC.presence_of_element_located((By.CLASS_NAME, '_5f5mN')))\n",
    "time.sleep(5)"
   ]
  },
  {
   "cell_type": "code",
   "execution_count": null,
   "metadata": {},
   "outputs": [],
   "source": [
    "if EC.presence_of_element_located((By.CLASS_NAME, '_5f5mN')):\n",
    "    driver.find_element_by_class_name('_5f5mN').click()\n",
    "    driver.find_element_by_xpath('/html/body/div[5]/div/div/div/div[3]/button[1]').click()\n",
    "else:\n",
    "    print('Already unfollowed')"
   ]
  },
  {
   "cell_type": "code",
   "execution_count": null,
   "metadata": {},
   "outputs": [],
   "source": [
    "driver.find_element_by_class_name('TqC_a').click()\n",
    "wait=WebDriverWait(driver,10).until(EC.presence_of_element_located((By.CLASS_NAME,'XTCLo')))"
   ]
  },
  {
   "cell_type": "code",
   "execution_count": null,
   "metadata": {},
   "outputs": [],
   "source": [
    "driver.find_element_by_class_name('XTCLo').send_keys('ninja')\n",
    "wait=WebDriverWait(driver, 10).until(EC.presence_of_element_located((By.CLASS_NAME, \"yCE8d\")))"
   ]
  },
  {
   "cell_type": "code",
   "execution_count": null,
   "metadata": {},
   "outputs": [],
   "source": [
    "driver.find_element_by_class_name('yCE8d').click()\n",
    "time.sleep(3)"
   ]
  },
  {
   "cell_type": "code",
   "execution_count": null,
   "metadata": {},
   "outputs": [],
   "source": [
    "#like/unlike 30 posts:\n",
    "def like_unlike():\n",
    "    driver.find_element_by_class_name('v1Nh3').click()\n",
    "    nextpost=driver.find_element_by_xpath('/html/body/div[5]/div[1]/div/div/a')\n",
    "    for i in range(30):\n",
    "        try:\n",
    "            time.sleep(4)\n",
    "            driver.find_element_by_xpath('/html/body/div[5]/div[2]/div/article/div[3]/section[1]/span[1]').click()\n",
    "            time.sleep(1)\n",
    "            nextpost.click()\n",
    "        except NoSuchElementException:\n",
    "            driver.find_element_by_xpath('/html/body/div[5]/div[3]/button').click()\n",
    "\n",
    "    driver.find_element_by_xpath('/html/body/div[5]/div[3]/button').click()\n",
    "    time.sleep(2)\n",
    "    driver.execute_script('window.scrollTo(0, 0)')"
   ]
  },
  {
   "cell_type": "code",
   "execution_count": null,
   "metadata": {},
   "outputs": [],
   "source": [
    "like_unlike() #like\n",
    "like_unlike() #unlike or back to normal"
   ]
  },
  {
   "cell_type": "code",
   "execution_count": null,
   "metadata": {},
   "outputs": [],
   "source": [
    "driver.find_element_by_class_name('TqC_a').click()\n",
    "wait=WebDriverWait(driver, 10).until(EC.presence_of_element_located((By.CLASS_NAME, \"XTCLo\")))"
   ]
  },
  {
   "cell_type": "code",
   "execution_count": null,
   "metadata": {},
   "outputs": [],
   "source": [
    "driver.find_element_by_class_name('XTCLo').send_keys('alvaromorte')\n",
    "wait=WebDriverWait(driver, 10).until(EC.presence_of_element_located((By.CLASS_NAME, \"yCE8d\")))"
   ]
  },
  {
   "cell_type": "code",
   "execution_count": null,
   "metadata": {},
   "outputs": [],
   "source": [
    "driver.find_element_by_class_name('yCE8d').click()\n",
    "wait=WebDriverWait(driver, 10).until(EC.presence_of_element_located((By.CLASS_NAME, \"_6VtSN\")))\n",
    "time.sleep(3)"
   ]
  },
  {
   "cell_type": "code",
   "execution_count": null,
   "metadata": {},
   "outputs": [],
   "source": [
    "driver.find_element_by_xpath('//*[@id=\"react-root\"]/section/main/div/header/section/ul/li[2]/a/span').click()\n",
    "flist=[]\n",
    "count=0\n",
    "for i in driver.find_elements_by_class_name(\"FPmhX\"):\n",
    "    flist.append(i.get_attribute(\"innerHTML\"))\n",
    "    count+=1\n",
    "    if count%30==0:\n",
    "        driver.execute_script('arguments[0].scrollIntoView(0, 100);', driver.find_element_by_xpath('//ul[contains(@class, \"jSC57\")]'))\n",
    "        time.sleep(0.6)\n",
    "    if count==500:\n",
    "        break\n",
    "flist"
   ]
  },
  {
   "cell_type": "code",
   "execution_count": null,
   "metadata": {},
   "outputs": [],
   "source": [
    "driver.find_element_by_xpath('/html/body/div[5]/div/div/div[1]/div/div[2]/button').click()"
   ]
  },
  {
   "cell_type": "code",
   "execution_count": null,
   "metadata": {},
   "outputs": [],
   "source": [
    "len(flist)"
   ]
  },
  {
   "cell_type": "code",
   "execution_count": null,
   "metadata": {},
   "outputs": [],
   "source": []
  }
 ],
 "metadata": {
  "kernelspec": {
   "display_name": "Python 3",
   "language": "python",
   "name": "python3"
  },
  "language_info": {
   "codemirror_mode": {
    "name": "ipython",
    "version": 3
   },
   "file_extension": ".py",
   "mimetype": "text/x-python",
   "name": "python",
   "nbconvert_exporter": "python",
   "pygments_lexer": "ipython3",
   "version": "3.8.5"
  }
 },
 "nbformat": 4,
 "nbformat_minor": 4
}
